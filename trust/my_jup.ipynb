{
 "cells": [
  {
   "cell_type": "markdown",
   "id": "5ea1eec7",
   "metadata": {},
   "source": [
    "# This is my Jupyter Book!"
   ]
  },
  {
   "cell_type": "code",
   "execution_count": null,
   "id": "c980f9bc",
   "metadata": {},
   "outputs": [],
   "source": [
    "import urllib.request\n",
    "import csv\n",
    "import statistics\n",
    "import random\n",
    "from collections import defaultdict, Counter\n",
    "import matplotlib.pyplot as plt"
   ]
  },
  {
   "cell_type": "code",
   "execution_count": null,
   "id": "0bd519b6",
   "metadata": {},
   "outputs": [],
   "source": [
    "# Download the latest version of the CSV file from the URL and save it locally\n",
    "url = 'https://raw.githubusercontent.com/quadriga-dk/OER-Workshop/refs/heads/main/assets/cleaned_trust_data.csv'\n",
    "response = urllib.request.urlopen(url)\n",
    "data = response.read().decode('utf-8')\n",
    "with open('../assets/cleaned_trust_data.csv', 'w') as file:\n",
    "    file.write(data)\n",
    "\n",
    "# Load the cleaned trust data from the downloaded CSV file\n",
    "with open('../assets/cleaned_trust_data.csv', 'r') as trust_data_file:\n",
    "    survey_data = list(csv.DictReader(trust_data_file))"
   ]
  },
  {
   "cell_type": "code",
   "execution_count": null,
   "id": "20f84605",
   "metadata": {},
   "outputs": [],
   "source": [
    "# Let's see what our cleaned data looks like\n",
    "print(\"\\n🎯 Our cleaned data structure:\")\n",
    "print(\"Each observation now has exactly 3 pieces of information:\")\n",
    "for i, observation in enumerate(survey_data[:5]):\n",
    "    print(f\"  {i+1}. {observation}\")\n",
    "\n",
    "# Convert Trust_Percentage from str to float for calculations\n",
    "for obs in survey_data:\n",
    "    obs['Trust_Percentage'] = float(obs['Trust_Percentage'])\n",
    "\n",
    "print(\"After transforming 'Trust_Percentage' to a floating point number:\")\n",
    "for i, observation in enumerate(survey_data[:5]):\n",
    "    print(f\"  {i+1}. {observation}\")\n",
    "\n",
    "print(f\"\\n📊 Dataset summary:\")\n",
    "countries = [obs['Country'] for obs in survey_data]\n",
    "trust_values = [obs['Trust_Percentage'] for obs in survey_data]\n",
    "years = [obs['Year'] for obs in survey_data if obs['Year']]\n",
    "\n",
    "print(f\"   🌍 Countries covered: {len(set(countries))}\")\n",
    "print(f\"   📅 Time period: {min(years) if years else 'N/A'} - {max(years) if years else 'N/A'}\")\n",
    "print(f\"   📈 Trust range: {min(trust_values):.1f}% to {max(trust_values):.1f}%\")"
   ]
  }
 ],
 "metadata": {
  "language_info": {
   "name": "python"
  }
 },
 "nbformat": 4,
 "nbformat_minor": 5
}
